{
 "cells": [
  {
   "cell_type": "markdown",
   "id": "ef850906-39b7-4c0e-b1b9-5bb627e3baf6",
   "metadata": {},
   "source": [
    "# Activity: Debug our Fibonacci Calculation\n",
    "In this activity, we'll continue the development of our Fibonacci sequence calculations. Previously, we constructed an empty `MyFibonacciSequenceModel` struct instance, by calling the default `MyFibonacciSequenceModel()` constructor method. We then passed this model instance to the `fibonacci!(...)` method to compute the Fibonacci numbers for a given index. This worked fine, but we can do better!\n",
    "\n",
    "We'll formulate a `build(...)` method which is responsible for properly constructing  `MyFibonacciSequenceModel` instances, and we'll make sure the `fibonacci!(...)` method is robust to bad inputs, to ensure it works correctly, and responds gracefully to errors.\n",
    "\n",
    "### Review\n",
    " A [Fibonacci sequence](https://en.wikipedia.org/wiki/Fibonacci_sequence) is composed of the Fibonacci numbers $F_{n}$ where:\n",
    "$$\n",
    "\\begin{align*}\n",
    "F_{0} & = 0 \\quad n = 0\\\\\n",
    "F_{1} & = 1 \\quad n = 1\\\\\n",
    "F_{n} & = F_{n-2} + F_{n-1}\\quad{n\\geq{2}}\n",
    "\\end{align*}\n",
    "$$\n",
    "\n",
    "Let's implement [a `build(...)` method](src/Factory.jl) to create [a `MyFibonacciSequenceModel` instance](src/Types.jl) with a specified size, and default values for the other arguments. We'll then pass this instance to the `fibonacci!(...)` method to compute the Fibonacci numbers for a given index.\n",
    "\n",
    "Let's go!\n",
    "\n",
    "___\n"
   ]
  },
  {
   "cell_type": "markdown",
   "id": "1207484a",
   "metadata": {},
   "source": [
    "## Setup, Data, and Prerequisites\n",
    "We set up the computational environment by including the `Include.jl` file and loading any needed resources.\n",
    "\n",
    "> __Include__: The [include command](https://docs.julialang.org/en/v1/base/base/#include) evaluates the contents of the input source file, `Include.jl`, in the notebook's global scope. The `Include.jl` file sets paths, loads required external packages, etc. For additional information on functions and types used in this material, see the [Julia programming language documentation](https://docs.julialang.org/en/v1/)\n",
    "\n",
    "Let's setup the computational environment."
   ]
  },
  {
   "cell_type": "code",
   "execution_count": 1,
   "id": "5c2f4bb0",
   "metadata": {},
   "outputs": [],
   "source": [
    "include(joinpath(@__DIR__, \"Include-student.jl\")); # what is this doing?"
   ]
  },
  {
   "cell_type": "markdown",
   "id": "da4260c0",
   "metadata": {},
   "source": [
    "In addition to standard Julia libraries, we'll also use [the `VLDataScienceMachineLearningPackage.jl` package](https://github.com/varnerlab/VLDataScienceMachineLearningPackage.jl), check out [the documentation](https://varnerlab.github.io/VLDataScienceMachineLearningPackage.jl/dev/) for more information on the functions, types and data used in this material. \n",
    "\n",
    "___"
   ]
  },
  {
   "cell_type": "markdown",
   "id": "fc23da0f",
   "metadata": {},
   "source": [
    "## Task 1: Create a build method for MyFibonacciSequenceModel\n",
    "In this task, we will create [a `build(...)` method](src/Factory.jl) in the [Factory.jl file](src/Factory.jl) that constructs a `MyFibonacciSequenceModel` instance with a specified size and default values for the other fields. \n",
    "\n",
    "This method will ensure that the model is properly initialized before being passed [to the `fibonacci!(...)` method](src/Compute.jl).\n",
    "\n",
    "__Requirements__:\n",
    "* __Arguments__: The [`build(...)`](src/Factory.jl) method will take the type of thing we want to build, i.e., [`MyFibonacciSequenceModel`](src/Types.jl) , the sequence size `n::Int` and the default value `defaultvalue::Int` parameters. These data will be passed into the build method as a `data::NamedTuple` instance, see [the documentation on NamedTuples here](https://docs.julialang.org/en/v1/base/base/#Core.NamedTuple). The `build(...)` method returns a properly constructed `MyFibonacciSequenceModel` instance.\n",
    "* __Error conditions__: If the required fields are missing or invalid, the method should return an error message and a `Nothing` value for the model being constructed.\n",
    "\n",
    "Break up into groups, and take __10 minutes__ to analyze [the `build(...)` method](src/Factory.jl).\n",
    "___"
   ]
  },
  {
   "cell_type": "markdown",
   "id": "954cf7a8",
   "metadata": {},
   "source": [
    "## Task 2: Let's test our build method\n",
    "In this task, we will test [the `build(...)` method](src/Factory.jl) to ensure it correctly constructs a `MyFibonacciSequenceModel` instance with the specified size and default values.\n",
    "\n",
    "> __Test cases.__ We'll consider several different test cases, where different values of `n` and `defaultvalue` are used to create the model instance. Sometimes these values will be valid, and sometimes they will not. However, our `build(...)` method should handle these cases gracefully, returning a valid model instance or throwing an appropriate error.\n",
    "\n",
    "### Happy Path\n",
    "Let's start with the first case, the so called _happy path_, where we provide valid size and defaultvalue arguments to the `build(...)` method. This should return a properly constructed `MyFibonacciSequenceModel` instance:"
   ]
  },
  {
   "cell_type": "code",
   "execution_count": 2,
   "id": "494dbad5",
   "metadata": {},
   "outputs": [],
   "source": [
    "my_sequence_model = build(MyFibonacciSequenceModel, (n=10, defaultvalue=0)); # build a new model"
   ]
  },
  {
   "cell_type": "markdown",
   "id": "6163c07e",
   "metadata": {},
   "source": [
    "This seems to have run! But let's do a few check to make sure we are doing what we think we are doing. \n",
    "\n",
    "* _Is the `my_sequence_model` instance the correct type?_ Let's check this using [the `isa(...)` method](https://docs.julialang.org/en/v1/base/base/#Core.isa) in combination with [the `@assert` macro](https://docs.julialang.org/en/v1/base/base/#Base.@assert) to ensure that the `my_sequence_model` instance is of type [`MyFibonacciSequenceModel`](src/Types.jl).\n",
    "* _Is the sequence dictionary initialized correctly?_ The `sequence::Dict{Int64,Int64}` dictionary should have a length equal to `n`, and all elements should be equal to the `defaultvalue`. We can use the [length(...) method](https://docs.julialang.org/en/v1/base/collections/#Base.length) to check the length of the `sequence` field, and [the all(...) method](https://docs.julialang.org/en/v1/base/collections/#Base.all-Tuple%7BAny%7D) to check that all elements are equal to the `defaultvalue`.\n",
    "\n",
    "If any of these checks fail, [an `AssertionError`](https://docs.julialang.org/en/v1/base/base/#Core.AssertionError) is thrown with a descriptive message."
   ]
  },
  {
   "cell_type": "code",
   "execution_count": 3,
   "id": "a81e8aa7",
   "metadata": {},
   "outputs": [
    {
     "ename": "UndefRefError",
     "evalue": "UndefRefError: access to undefined reference",
     "output_type": "error",
     "traceback": [
      "UndefRefError: access to undefined reference\n",
      "\n",
      "Stacktrace:\n",
      " [1] getproperty(x::MyFibonacciSequenceModel, f::Symbol)\n",
      "   @ Base ./Base.jl:49\n",
      " [2] top-level scope\n",
      "   @ ~/Desktop/julia_work/CHEME-5800-Instances/Fall-2025/CHEME-5800-Labs-Fall-2025/labs/week-2/L2d/jl_notebook_cell_df34fa98e69747e1a8f8a730347b8e2f_X11sZmlsZQ==.jl:7"
     ]
    }
   ],
   "source": [
    "let\n",
    "\n",
    "    # Check 1: Check the model type -\n",
    "    @assert my_sequence_model isa MyFibonacciSequenceModel \"Oopps! The model is NOT of type MyFibonacciSequenceModel\";\n",
    "\n",
    "    # Check 2: Check the sequence length and default values -\n",
    "    @assert length(my_sequence_model.sequence) == 10 \"Oopps! The sequence length is NOT equal to 10.\";\n",
    "    @assert all(k -> my_sequence_model.sequence[k] == 0, keys(my_sequence_model.sequence)) \"Oopps! Not all sequence values are equal to 0.\";\n",
    "end"
   ]
  },
  {
   "cell_type": "markdown",
   "id": "9aaa136f",
   "metadata": {},
   "source": [
    "### Error Handling\n",
    "If all our checks pass, then we know that when provided with the correct parameters, the model is built correctly. However, sometimes users make mistakes, they can't read our mind (or we did a bad job of documenting the code). So, let's also test some error cases where users enters invalid parameters.\n",
    "\n",
    "> __Current condition:__ Right now (with all the debugging checks disabled), [the `build(...)` method](src/Factory.jl) will blow up if we did not provide a valid `n::Int64` or `defaultvalue::Int64` parameter. \n",
    "\n",
    "What happens if we do not provide a `defaultvalue` parameter in `data::NamedTuple`? "
   ]
  },
  {
   "cell_type": "code",
   "execution_count": 4,
   "id": "1b068ee3",
   "metadata": {},
   "outputs": [],
   "source": [
    "my_sequence_model = build(MyFibonacciSequenceModel, (n=10,)); # build a new model|"
   ]
  },
  {
   "cell_type": "markdown",
   "id": "54805f7e",
   "metadata": {},
   "source": [
    "Without the `defaultvalue` parameter, the `build(...)` method will throw the error: __type NamedTuple has no field defaultvalue__ Let's handle this gracefully by that all parameters are provided. \n",
    "* `Uncomment` the first error handling block in the `build(...)` method, and reload the method. The error checking logic checks that the required fields are provided in the `data::NamedTuple` instance. If a field is missing, an `ArgumentError` with a descriptive message is thrown.\n",
    "\n",
    "Rerun the updated `build(...)` method with a `data::NamedTuple` instance that does not contain the `defaultvalue` field. What happens now?"
   ]
  },
  {
   "cell_type": "code",
   "execution_count": 5,
   "id": "78be81c4",
   "metadata": {},
   "outputs": [],
   "source": [
    "my_sequence_model = build(MyFibonacciSequenceModel, (n=10,)); # build a new model"
   ]
  },
  {
   "cell_type": "markdown",
   "id": "5b497b79",
   "metadata": {},
   "source": [
    "Confirm the model is not built, and the `my_sequence_model` instance is [`nothing`](https://docs.julialang.org/en/v1/base/constants/#Core.nothing) as expected. We can use the [`isnothing(...)`](https://docs.julialang.org/en/v1/base/base/#Base.isnothing) method in combination with [the `@assert` macro](https://docs.julialang.org/en/v1/base/base/#Base.@assert) to check if `my_sequence_model` is `nothing`."
   ]
  },
  {
   "cell_type": "code",
   "execution_count": 6,
   "id": "d3ebba76",
   "metadata": {},
   "outputs": [
    {
     "ename": "AssertionError",
     "evalue": "AssertionError: Oopps! The sequence is nothing, it should be a dictionary.",
     "output_type": "error",
     "traceback": [
      "AssertionError: Oopps! The sequence is nothing, it should be a dictionary.\n",
      "\n",
      "Stacktrace:\n",
      " [1] top-level scope\n",
      "   @ ~/Desktop/julia_work/CHEME-5800-Instances/Fall-2025/CHEME-5800-Labs-Fall-2025/labs/week-2/L2d/jl_notebook_cell_df34fa98e69747e1a8f8a730347b8e2f_X20sZmlsZQ==.jl:1"
     ]
    }
   ],
   "source": [
    "@assert isnothing(my_sequence_model) == true \"Oopps! The sequence is nothing, it should be a dictionary.\";"
   ]
  },
  {
   "cell_type": "markdown",
   "id": "a32e1fd0",
   "metadata": {},
   "source": [
    "Next, let's check what happens if we provide an invalid `n` parameter. For example, if we provide a negative value for `n`, the `build(...)` method should throw an `ArgumentError` with a descriptive message. \n",
    "\n",
    "> Without the next block of error checking logic, [the `build(...)` method](src/Factory.jl) returns an empty `MyFibonacciSequenceModel` instance when passed bad values for the `n` parameter (or the `defaultvalue` parameter), which is not what we want (this is a strange state for the model to be in).\n",
    "\n",
    "`Uncomment` the second and third error handling blocks in [the `build(...)` method](src/Factory.jl), restart the Julia Kernel and run all cells. \n",
    "\n",
    "> __What should happen?__ The error checking logic checks that the `n::Int64` parameter is a positive integer, and that the `defaultvalue::Int64` parameter is an integer. If either of these conditions is not met, an `warning` message is shown.\n",
    "\n",
    "So what do we see?"
   ]
  },
  {
   "cell_type": "code",
   "execution_count": 7,
   "id": "e717954d",
   "metadata": {},
   "outputs": [],
   "source": [
    "my_sequence_model = build(MyFibonacciSequenceModel, (n=-10, defaultvalue = -1)); # build a new model"
   ]
  },
  {
   "cell_type": "markdown",
   "id": "e03068ba",
   "metadata": {},
   "source": [
    "While this works a little better, we still have a problem. \n",
    "\n",
    "> __Problem:__ The [`build(...)` method](src/Factory.jl) returns an empty [`MyFibonacciSequenceModel` instance](src/Types.jl) when passed bad values for the `n::Int64` parameter, a default value for `n` is set on the model, but the `sequence::Dict{Int64,Int64}` dictionary is empty, which is not what we want (this is a strange state for the model to be in).\n",
    "\n",
    "What is stored in the `sequence::Dict{Int64,Int64}` dictionary?"
   ]
  },
  {
   "cell_type": "code",
   "execution_count": 8,
   "id": "2c781984",
   "metadata": {},
   "outputs": [
    {
     "ename": "UndefRefError",
     "evalue": "UndefRefError: access to undefined reference",
     "output_type": "error",
     "traceback": [
      "UndefRefError: access to undefined reference\n",
      "\n",
      "Stacktrace:\n",
      " [1] getproperty(x::MyFibonacciSequenceModel, f::Symbol)\n",
      "   @ Base ./Base.jl:49\n",
      " [2] top-level scope\n",
      "   @ ~/Desktop/julia_work/CHEME-5800-Instances/Fall-2025/CHEME-5800-Labs-Fall-2025/labs/week-2/L2d/jl_notebook_cell_df34fa98e69747e1a8f8a730347b8e2f_X24sZmlsZQ==.jl:1"
     ]
    }
   ],
   "source": [
    "my_sequence_model.sequence"
   ]
  },
  {
   "cell_type": "markdown",
   "id": "bb2fcdbb",
   "metadata": {},
   "source": [
    "`Uncomment` the last error handling block in [the `build(...)` method](src/Factory.jl), restart the Julia Kernel and run all cells. The final error checking block fills the empty `sequence::Dict{Int64,Int64}` dictionary with the `defaultvalue::Int64` for all keys from `0` to `n-1`. "
   ]
  },
  {
   "cell_type": "code",
   "execution_count": 9,
   "id": "41e23c24",
   "metadata": {},
   "outputs": [],
   "source": [
    "my_sequence_model = build(MyFibonacciSequenceModel, (n=-10, defaultvalue = -1)); # build a new model"
   ]
  },
  {
   "cell_type": "markdown",
   "id": "f2be425c",
   "metadata": {},
   "source": [
    "We recieved a `warning` message, but a warning is not an error, so the `my_sequence_model` instance is still created, and we can use it to compute the Fibonacci numbers! Let's check the instance that gets returned [by the `build(...)` method](src/Factory.jl).\n",
    "> __Expectation__: We expect the `my_sequence_model` instance to not be `nothing`, the model will be [type `MyFibonacciSequenceModel`](src/Types.jl), and the `sequence::Dict{Int64,Int64}` dictionary should be populated with the default value for all keys from `0` to `n-1`.\n",
    "\n",
    "Let's check these four conditions using [the `@assert` macro](https://docs.julialang.org/en/v1/base/base/#Base.@assert):"
   ]
  },
  {
   "cell_type": "code",
   "execution_count": 10,
   "id": "6606e3d2",
   "metadata": {},
   "outputs": [
    {
     "ename": "UndefRefError",
     "evalue": "UndefRefError: access to undefined reference",
     "output_type": "error",
     "traceback": [
      "UndefRefError: access to undefined reference\n",
      "\n",
      "Stacktrace:\n",
      " [1] getproperty(x::MyFibonacciSequenceModel, f::Symbol)\n",
      "   @ Base ./Base.jl:49\n",
      " [2] top-level scope\n",
      "   @ ~/Desktop/julia_work/CHEME-5800-Instances/Fall-2025/CHEME-5800-Labs-Fall-2025/labs/week-2/L2d/jl_notebook_cell_df34fa98e69747e1a8f8a730347b8e2f_X31sZmlsZQ==.jl:12"
     ]
    }
   ],
   "source": [
    "let\n",
    "\n",
    "    # initalize -\n",
    "    correct_sequence_length = 10; # this is the default value for n\n",
    "    correct_default_value = -1; # this is the default value for the defaultvalue parameter\n",
    "\n",
    "    # Check 1: Check the model type -\n",
    "    @assert isnothing(my_sequence_model) == false \"Oopps! The model is nothing, it should be a MyFibonacciSequenceModel.\";\n",
    "    @assert my_sequence_model isa MyFibonacciSequenceModel \"Oopps! The model is NOT of type MyFibonacciSequenceModel\";\n",
    "\n",
    "    # Check 2: Check the sequence length and default values -\n",
    "    @assert length(my_sequence_model.sequence) == correct_sequence_length \"Oopps! The sequence length is NOT equal to 10.\";\n",
    "    @assert all(k -> my_sequence_model.sequence[k] == correct_default_value, keys(my_sequence_model.sequence)) \"Oopps! Not all sequence values are equal to 0.\";\n",
    "end"
   ]
  },
  {
   "cell_type": "markdown",
   "id": "3da4039d",
   "metadata": {},
   "source": [
    "### Compute the sequence\n",
    "If all of our error handling is in place, we should be able to compute the Fibonacci sequence without any issues. Let's test this by calling [the `fibonacci!(...)` method](src/Compute.jl) on our `my_sequence_model::MyFibonacciSequenceModel` instance."
   ]
  },
  {
   "cell_type": "code",
   "execution_count": null,
   "id": "64063391",
   "metadata": {},
   "outputs": [],
   "source": [
    "result, my_test_sequence_model = let\n",
    "\n",
    "    # initialize -\n",
    "    my_test_sequence_model = build(MyFibonacciSequenceModel, (\n",
    "        n = 10, # length of the sequence\n",
    "        defaultvalue = 0 # default value for the sequence elements\n",
    "    )); # build a new model\n",
    "\n",
    "    result = fibonacci!(my_test_sequence_model, \n",
    "        iterationmodel = MyForLoopIterationModel()); # compute the Fibonacci sequence\n",
    "\n",
    "    # return -\n",
    "    result, my_test_sequence_model\n",
    "end"
   ]
  }
 ],
 "metadata": {
  "kernelspec": {
   "display_name": "Julia 1.11.6",
   "language": "julia",
   "name": "julia-1.11"
  },
  "language_info": {
   "file_extension": ".jl",
   "mimetype": "application/julia",
   "name": "julia",
   "version": "1.11.6"
  }
 },
 "nbformat": 4,
 "nbformat_minor": 5
}
