{
 "cells": [
  {
   "cell_type": "markdown",
   "id": "38fa072f-e0b6-4212-a936-0755ea27d7d0",
   "metadata": {},
   "source": [
    "# Example: Singular Value Decomposition (SVD) of the Daily Growth Rate of the S&P500.\n",
    "In this example, we decompose the daily growth rate values for components of the S&P500 using SVD.\n",
    "Singular value decomposition helps us break down complex data into simpler, interpretable components.\n",
    "\n",
    "> **Learning Objectives:** By the end of this example, you will be able to:\n",
    ">\n",
    "> * **Apply SVD to Financial Data**: Calculate growth rates from S&P500 stock prices and break down the data matrix using SVD. You'll learn how to use linear algebra to find patterns in financial data.\n",
    "> * **Understand What the Math Tells Us**: Figure out what the singular values mean and how much of the market behavior each part explains. You'll see the difference between market-wide movements and individual stock changes.\n",
    "> * **Visualize Market Patterns**: Create pictures of market behavior using the SVD components and spot trends in the data. This helps you see how different stocks move together and identify important time periods in the market.\n",
    "\n",
    "\n",
    "By applying SVD to the daily growth rates of S&P500 stocks, we can uncover underlying patterns and trends in the market. Let's get started!\n",
    "___"
   ]
  },
  {
   "cell_type": "markdown",
   "id": "0521a25e",
   "metadata": {},
   "source": [
    "## Setup, Data, and Prerequisites\n",
    "First, we set up the computational environment by including the `Include.jl` file and loading any needed resources.\n",
    "\n",
    ">__Include:__ The [`include(...)` command](https://docs.julialang.org/en/v1/base/base/#include) evaluates the contents of the input source file, `Include.jl`, in the notebook's global scope. The `Include.jl` file sets paths, loads required external packages, etc. For additional information on functions and types used in this material, see the [Julia programming language documentation](https://docs.julialang.org/en/v1/). \n",
    "\n",
    "Let's set up our code environment:"
   ]
  },
  {
   "cell_type": "code",
   "execution_count": null,
   "id": "f8807428",
   "metadata": {},
   "outputs": [],
   "source": [
    "include(joinpath(@__DIR__, \"Include.jl\")); # include the Include.jl file"
   ]
  },
  {
   "cell_type": "markdown",
   "id": "f9377491",
   "metadata": {},
   "source": [
    "For additional information on functions and types used in this material, see the [Julia programming language documentation](https://docs.julialang.org/en/v1/) and the [VLQuantitativeFinancePackage.jl documentation](https://github.com/varnerlab/VLQuantitativeFinancePackage.jl). "
   ]
  },
  {
   "cell_type": "markdown",
   "id": "108fe25d",
   "metadata": {},
   "source": [
    "### Data\n",
    "We gathered a daily open-high-low-close `dataset` for each firm in the [S&P500](https://en.wikipedia.org/wiki/S%26P_500) from `01-03-2014` until `12-31-2024`, along with data for a few exchange-traded funds and volatility products during that time. \n",
    "\n",
    "Let's load the `original_dataset::DataFrame` by calling [the `MyTrainingMarketDataSet()` function](https://varnerlab.github.io/VLQuantitativeFinancePackage.jl/dev/data/#VLQuantitativeFinancePackage.MyTrainingMarketDataSet) and remove firms that do not have the maximum number of trading days. The cleaned dataset $\\mathcal{D}$ will be stored in the `dataset` variable."
   ]
  },
  {
   "cell_type": "code",
   "execution_count": null,
   "id": "87089a05",
   "metadata": {},
   "outputs": [],
   "source": [
    "original_dataset = MyTrainingMarketDataSet() |> x-> x[\"dataset\"]"
   ]
  },
  {
   "cell_type": "markdown",
   "id": "bd76f5b7",
   "metadata": {},
   "source": [
    "Not all tickers in our dataset have the maximum number of trading days for various reasons, e.g., acquisition or de-listing events. Let's collect only those tickers with the maximum number of trading days.\n",
    "\n",
    "First, let's compute the number of records for a firm that we know has a maximum value, e.g., `AAPL`, and save that value in the `maximum_number_trading_days::Int64` variable:"
   ]
  },
  {
   "cell_type": "code",
   "execution_count": null,
   "id": "228953c9",
   "metadata": {},
   "outputs": [],
   "source": [
    "maximum_number_trading_days = original_dataset[\"AAPL\"] |> nrow # nrow? (check out: DataFrames.jl)"
   ]
  },
  {
   "cell_type": "markdown",
   "id": "d6a1a107",
   "metadata": {},
   "source": [
    "Now, let's iterate through our data and collect only tickers with `maximum_number_trading_days` records. Save that data in the `dataset::Dict{String,DataFrame}` variable:"
   ]
  },
  {
   "cell_type": "code",
   "execution_count": null,
   "id": "f1022da9",
   "metadata": {},
   "outputs": [],
   "source": [
    "dataset = let\n",
    "\n",
    "    # initialize -\n",
    "    dataset = Dict{String, DataFrame}();\n",
    "\n",
    "    # iterate through the dictionary; we can't guarantee a particular order\n",
    "    for (ticker, data) ∈ original_dataset  # we get each (K, V) pair!\n",
    "        if (nrow(data) == maximum_number_trading_days) # what is this doing?\n",
    "            dataset[ticker] = data;\n",
    "        end\n",
    "    end\n",
    "    dataset; # return\n",
    "end;"
   ]
  },
  {
   "cell_type": "markdown",
   "id": "f55353d2",
   "metadata": {},
   "source": [
    "How many firms do we have the full number of trading days? Let's use [the `length(...)` method](https://docs.julialang.org/en/v1/base/collections/#Base.length) - notice this works for dictionaries, in addition to arrays, sets and other collections."
   ]
  },
  {
   "cell_type": "code",
   "execution_count": null,
   "id": "40613cf8",
   "metadata": {},
   "outputs": [],
   "source": [
    "length(dataset) # tells us how many keys are in the dictionary (how many firms in our dataset?)"
   ]
  },
  {
   "cell_type": "markdown",
   "id": "7fee44b8",
   "metadata": {},
   "source": [
    "Finally, let's get a list of the firms in our cleaned up dataset (and sort them alphabetically). We store the sorted firm ticker symbols in the `list_of_tickers::Array{String,1}` variable."
   ]
  },
  {
   "cell_type": "code",
   "execution_count": null,
   "id": "ba8875ca",
   "metadata": {},
   "outputs": [],
   "source": [
    "list_of_tickers = keys(dataset) |> collect |> sort # list of firm \"ticker\" symbols in alphabetical order"
   ]
  },
  {
   "cell_type": "code",
   "execution_count": null,
   "id": "2a03a182-83ee-494b-b594-8deaffb30865",
   "metadata": {},
   "outputs": [],
   "source": [
    "dataset[\"AMD\"]"
   ]
  },
  {
   "cell_type": "markdown",
   "id": "7e2c874f",
   "metadata": {},
   "source": [
    "___"
   ]
  },
  {
   "cell_type": "markdown",
   "id": "9e1a2b7a",
   "metadata": {},
   "source": [
    "## Task 1: Compute the growth rate matrix\n",
    "In this task, we compute the growth rate array which contains, for each day and each firm in our dataset, the value of the growth rate between time $j$ and $j-1$. \n",
    "\n",
    ">  __Continuously Compounded Growth Rate (CCGR)__\n",
    ">\n",
    "> Let's assume a model of the share price of firm $i$ is governed by an expression of the form:\n",
    ">$$\n",
    "\\begin{align*}\n",
    "S^{(i)}_{j} &= S^{(i)}_{j-1}\\;\\exp\\left(g^{(i)}_{j,j-1}\\Delta{t}_{j}\\right)\n",
    "\\end{align*}\n",
    "$$\n",
    "> where $S^{(i)}_{j-1}$ denotes the share price of firm $i$ at time index $j-1$, $S^{(i)}_{j}$ denotes the share price of firm $i$ at time index $j$, and $\\Delta{t}_{j} = t_{j} - t_{j-1}$ denotes the length of a time step (units: years) between time index $j-1$ and $j$. The value we are going to estimate is the growth rate $g^{(i)}_{j,j-1}$ (units: inverse years) for each firm $i$, and each time step in the dataset.\n",
    "\n",
    "We've implemented [the `log_growth_rate(...)` function](https://varnerlab.github.io/VLDataScienceMachineLearningPackage.jl/dev/data/#VLDataScienceMachineLearningPackage.log_growth_matrix) which takes the cleaned up dataset, and a list of ticker symbols, and returns the growth rate array. Each row of the growth rate array is a time step, while each column corresponds to a firm from the `list_of_tickers::Array{String,1}` array."
   ]
  },
  {
   "cell_type": "code",
   "execution_count": null,
   "id": "5a27517e",
   "metadata": {},
   "outputs": [],
   "source": [
    "growth_rate_array = let\n",
    "\n",
    "    # initialize -\n",
    "    τ = (1/252); # time-step one-day in units of years (trading year is 252 days)\n",
    "    r̄ = 0.0; # assume the risk-free rate is 0\n",
    "\n",
    "    # compute the growth matrix -\n",
    "    growth_rate_array = log_growth_matrix(dataset, list_of_tickers, Δt = τ, \n",
    "        risk_free_rate = r̄); # other optional parameters are at their defaults\n",
    "\n",
    "    growth_rate_array; # return\n",
    "end"
   ]
  },
  {
   "cell_type": "markdown",
   "id": "928daa3c",
   "metadata": {},
   "source": [
    "> **Growth Rate Matrix Structure**\n",
    ">\n",
    "> The `growth_rate_array` is a matrix $\\mathbf{G} \\in \\mathbb{R}^{m \\times n}$ where each **row** represents a trading day (time step) in our dataset, each **column** represents a firm from the S&P500, and each **element** $G_{i,j}$ contains the continuously compounded growth rate for firm $j$ on day $i$.\n",
    "\n",
    "The matrix has 424 firms (columns) and there are $T-1$ = 2,766 trading days (rows), capturing the daily growth rate dynamics of the S&P500 components from 2014 to 2024. Is there redundancy in the data?\n",
    "\n",
    "Let's check the rank of the growth rate array using [the `rank(...)` function](https://docs.julialang.org/en/v1/stdlib/LinearAlgebra/#LinearAlgebra.rank):"
   ]
  },
  {
   "cell_type": "code",
   "execution_count": null,
   "id": "d871093f",
   "metadata": {},
   "outputs": [],
   "source": [
    "rank(growth_rate_array)"
   ]
  },
  {
   "cell_type": "markdown",
   "id": "cc401929",
   "metadata": {},
   "source": [
    "The growth rate matrix has **full column rank** (rank = 424), which means that all 424 firms contribute independent information to the dataset. \n",
    "\n",
    "> __Why is this significant?__ This tells us that no firm's growth pattern can be perfectly predicted from the others. Each stock brings unique behavior to the market, even though there may be strong correlations between them.\n",
    "\n",
    "Let's dig deeper into the market behavior using SVD!\n",
    "___"
   ]
  },
  {
   "cell_type": "markdown",
   "id": "be5ec269",
   "metadata": {},
   "source": [
    "## Task 2: Let's decompose the growth matrix using SVD\n",
    "In this task, we decompose the growth rate matrix using Singular Value Decomposition (SVD). Let the growth rate matrix be denoted by $\\mathbf{G} \\in \\mathbb{R}^{m\\times n}$, where $m$ is the number of time steps (days) in our dataset, and $n$ is the number of firms in our dataset. The SVD of $\\mathbf{G}$ is given by:\n",
    "$$\n",
    "\\begin{align*}\n",
    "\\mathbf{G} &= \\mathbf{U}\\mathbf{\\Sigma}\\mathbf{V}^{\\top}\n",
    "\\end{align*}\n",
    "$$\n",
    "where $\\mathbf{U} \\in \\mathbb{R}^{m\\times m}$ is a matrix whose columns are the left singular vectors of $\\mathbf{G}$, $\\mathbf{\\Sigma} \\in \\mathbb{R}^{m\\times n}$ is a diagonal matrix whose diagonal entries are the singular values of $\\mathbf{G}$, and $\\mathbf{V} \\in \\mathbb{R}^{n\\times n}$ is a matrix whose columns are the right singular vectors of $\\mathbf{G}$.\n",
    "\n",
    "> __Why SVD?__\n",
    ">\n",
    "> SVD is a powerful tool for analyzing the structure of data. It can be used for dimensionality reduction, noise reduction, and feature extraction. In the context of financial data, SVD can help us identify underlying patterns and trends in the growth rates of different firms.\n",
    "\n",
    "> __What is SVD?__\n",
    ">\n",
    "> Singular value decomposition (SVD) can be thought of as decomposing a matrix into a weighted, ordered sum of separable matrices, e.g., frames of market behavior. Let $\\mathbf{A}\\in\\mathbb{R}^{m\\times{n}}$ have the singular value decomposition $\\mathbf{G} = \\mathbf{U}\\mathbf{\\Sigma}\\mathbf{V}^{T}$. Then, the matrix $\\mathbf{G}\\in\\mathbb{R}^{m\\times{n}}$ can be written as:\n",
    "> $$\n",
    "\\begin{align*}\n",
    "\\mathbf{G} &= \\sum_{i=1}^{r_{\\mathbf{G}}}\\sigma_{i}\\;\\underbrace{\\left(\\mathbf{u}_{i}\\otimes\\mathbf{v}_{i}\\right)}_{\\mathbf{G}_{i}}\n",
    "\\end{align*}    \n",
    "$$\n",
    "> where $r_{\\mathbf{G}}$ is the __rank__ of matrix $\\mathbf{G}$, the vectors $\\mathbf{u}_{i}$ and $\\mathbf{v}_{i}$ are the ith left and right singular vectors, and $\\sigma_{i}$ are the ordered singular values. The [outer product](https://en.wikipedia.org/wiki/Outer_product) $\\mathbf{G}_{i} = \\left(\\mathbf{u}_{i}\\otimes\\mathbf{v}_{i}\\right)$ is the separable component of the matrix $\\mathbf{G}$ that has rank one. Thus, we are rebuilding the matrix $\\mathbf{G}$ as a weighted sum of rank one matrices. The weights are the singular values $\\sigma_{i}$. The singular values are ordered from largest to smallest, so the first few terms in the sum capture the most important features of the matrix $\\mathbf{G}$. \n",
    "\n",
    "This is the basis for data reduction using SVD. By truncating the sum after a few terms, we can obtain a low-rank approximation of the matrix $\\mathbf{G}$ that captures the most important features of the data.\n",
    "\n",
    "We'll use the [`svd(...)` method exported from the `LinearAlgebra.jl` package](https://docs.julialang.org/en/v1/stdlib/LinearAlgebra/#LinearAlgebra.SVD) to compute the singular value decomposition of `growth_rate_array::Array{Float64,2}`. \n",
    "\n",
    "This produces the `U`, `Σ`, and `V` matrices, holding the left singular vectors, the singular values, and the right singular vectors, respectively."
   ]
  },
  {
   "cell_type": "code",
   "execution_count": null,
   "id": "77b0359c",
   "metadata": {},
   "outputs": [],
   "source": [
    "U,S,V = svd(growth_rate_array); # note the transpose"
   ]
  },
  {
   "cell_type": "markdown",
   "id": "9c2dfdd3",
   "metadata": {},
   "source": [
    "One of the cool things about [singular value decomposition](https://en.wikipedia.org/wiki/Singular_value_decomposition) is that modes (the rank one components) are sorted and weighted by the singular values. Thus, we can compute the contribution of each mode by looking at the singular values.\n",
    "\n",
    "Let's compute and visualize how much information, i.e., what fraction of the original matrix, is explained by each mode by looking at the cumulative sum."
   ]
  },
  {
   "cell_type": "code",
   "execution_count": null,
   "id": "878421b8",
   "metadata": {},
   "outputs": [],
   "source": [
    "let\n",
    "    \n",
    "    # make a plot of the fractional contribution of the singular values\n",
    "    number_of_modes = length(S);\n",
    "    SS = (1/sum(S))*S;\n",
    "    explained_array = [100*sum(SS[1:i]) for i ∈ 1:number_of_modes]; # comprehension\n",
    "\n",
    "    plot(explained_array, label=\"Scaled σᵢ values\", lw=3, c=:navy)\n",
    "    plot!(bg=\"gray95\", background_color_outside=\"white\", framestyle = :box, fg_legend = :transparent);\n",
    "    xlabel!(\"index i\", fontsize=18)\n",
    "    ylabel!(\"Cumulative explained by mode 1 to i\", fontsize=18)\n",
    "end"
   ]
  },
  {
   "cell_type": "markdown",
   "id": "60540c1f",
   "metadata": {},
   "source": [
    "### What do the singular values tell us about the market behavior?\n",
    "\n",
    "Looking at the plot above, we can see how the cumulative explained variance grows as we include more SVD modes. The shape of this curve reveals important characteristics about the structure of financial market data.\n",
    "\n",
    "> **Key Insight**: The S&P500 growth rate data shows that approximately 100 modes (about 25% of the total) are required to capture just 50% of the market behavior. Unlike some physical systems where a few dominant modes capture most behavior, this data suggests stock market dynamics are distributed across many different factors, reflecting the intricate web of economic forces, individual company performance, and investor behavior that drive market movements.\n",
    "\n",
    "Next, let's visualize the first few modes to see what they tell us about market behavior.\n",
    "___"
   ]
  },
  {
   "cell_type": "markdown",
   "id": "c370d394",
   "metadata": {},
   "source": [
    "## Task 3: Visualize the contribution of each mode\n",
    "In this task, we visualize the contribution of each mode to the original growth rate matrix by computing the cumulative sum of the weighted rank one updates.\n",
    "\n",
    "In the visualization below, we'll reconstruct and display the market behavior using up to a specified number of modes. This shows how we can build up approximations of the original data matrix using progressively more components.\n",
    "\n",
    "> **Visualization Approach**: We're creating grayscale images from the SVD components where each rank-1 matrix $\\mathbf{G}_i = \\sigma_i \\mathbf{u}_i \\mathbf{v}_i^T$ represents one \"mode\" of market behavior. By converting the numerical growth rate values to color intensities (dark = negative, gray = moderate positive, light = large positive), we can visually see patterns in both time (horizontal direction) and across different stocks (vertical direction).\n",
    "\n",
    "We store the individual market modes in the `image_frames_dictionary::Dict{Int64,Array{Float64,2}}` dictionary variable, where the key is the mode index, and the values are the corresponding reconstructed growth rate matrices."
   ]
  },
  {
   "cell_type": "code",
   "execution_count": null,
   "id": "09262cf0",
   "metadata": {},
   "outputs": [],
   "source": [
    "image_frames_dictionary = let\n",
    "\n",
    "    # initialize -\n",
    "    image_frames_dictionary = Dict{Int64,Matrix{Gray{Float64}}}();\n",
    "\n",
    "    R = rank(growth_rate_array); # how many frames will we have?\n",
    "    foreach(i -> image_frames_dictionary[i] = S[i]*⊗(U[:,i],V[:,i]), 1:R); # another iteration pattern???\n",
    "\n",
    "    image_frames_dictionary; # return\n",
    "end;"
   ]
  },
  {
   "cell_type": "markdown",
   "id": "82ffd713",
   "metadata": {},
   "source": [
    "`Unhide` the code cell below to see how we computed and then visualized the cumulative contribution of each market mode. We've visualized the transpose of the growth rate matrix, so that time is on the horizontal axis, and firms are on the vertical axis.\n",
    "> __Colors__: Dark values (black) indicate negative growth rates, gray values indicate moderate positive growth rates (between 0% and 5%), and light values (white) indicate large positive growth rates (greater than 5% per year).\n",
    "\n",
    "So, do we see any interesting patterns in the modes of market behavior?"
   ]
  },
  {
   "cell_type": "code",
   "execution_count": null,
   "id": "aaefcd4e",
   "metadata": {},
   "outputs": [],
   "source": [
    "let \n",
    "    \n",
    "    (number_of_trading_days, number_of_firms) = size(growth_rate_array);\n",
    "    B = zeros(number_of_trading_days, number_of_firms); # initialize\n",
    "\n",
    "    M = image_frames_dictionary[1];\n",
    "    number_of_frames = 100;\n",
    "    for i ∈ 2:number_of_frames\n",
    "        M += image_frames_dictionary[i]\n",
    "    end\n",
    "\n",
    "    for i ∈ 1:number_of_trading_days\n",
    "        for j ∈ 1:number_of_firms\n",
    "            if (M[i,j] < 0.0)\n",
    "                B[i,j] = 0.0; # dark\n",
    "            elseif (0.0 < M[i,j] < 0.05)\n",
    "                B[i,j] = 0.5; # gray\n",
    "            else\n",
    "                B[i,j] = 1.0; # light\n",
    "            end\n",
    "        end\n",
    "    end\n",
    "\n",
    "    Gray.(transpose(B)) # rows are firms; columns are trading days\n",
    "end"
   ]
  },
  {
   "cell_type": "markdown",
   "id": "2d11ec73",
   "metadata": {},
   "source": [
    "`Unhide` the code cell below to see how we visualized the entire market behavior using all modes.\n",
    "> __Colors__: Dark values (black) indicate negative growth rates, gray values indicate moderate positive growth rates (between 0% and 5%), and light values (white) indicate large positive growth rates (greater than 5% per year).\n",
    "\n",
    "How does the entire market behavior look when we use all modes?"
   ]
  },
  {
   "cell_type": "code",
   "execution_count": null,
   "id": "1b83e664",
   "metadata": {
    "jupyter": {
     "source_hidden": true
    }
   },
   "outputs": [],
   "source": [
    "let\n",
    "\n",
    "    # initialize -\n",
    "    (number_of_trading_days, number_of_firms) = size(growth_rate_array);\n",
    "    B = zeros(number_of_trading_days, number_of_firms); # initialize\n",
    "\n",
    "    for i ∈ 1:number_of_trading_days\n",
    "        for j ∈ 1:number_of_firms\n",
    "            if (growth_rate_array[i,j] < 0.0)\n",
    "                B[i,j] = 0.0; # dark\n",
    "            elseif (0.0 < growth_rate_array[i,j] < 0.05)\n",
    "                B[i,j] = 0.5; # gray\n",
    "            else\n",
    "                B[i,j] = 1.0; # light\n",
    "            end\n",
    "        end\n",
    "    end\n",
    "\n",
    "    Gray.(transpose(B)) # rows are firms; columns are trading days\n",
    "end"
   ]
  },
  {
   "cell_type": "markdown",
   "id": "a59c9734",
   "metadata": {},
   "source": [
    "### What patterns do we see in the market behavior?\n",
    "\n",
    "Looking at the grayscale visualizations, we can observe several clear patterns in how the growth rates are distributed across time and firms.\n",
    "\n",
    "> **Observable Patterns**: The visualizations show distinct vertical bands (time periods where most stocks moved in the same direction) and horizontal bands (groups of stocks that tend to move together). Dark vertical stripes indicate days when many firms experienced negative growth simultaneously, while light areas show periods of broad positive growth. The horizontal patterns suggest that certain groups of firms have correlated behavior.\n",
    "\n",
    "These visual patterns demonstrate that the SVD decomposition is successfully identifying structure in what might otherwise appear to be random market data. Pretty cool, right?\n",
    "___"
   ]
  }
 ],
 "metadata": {
  "kernelspec": {
   "display_name": "Julia 1.11.7",
   "language": "julia",
   "name": "julia-1.11"
  },
  "language_info": {
   "file_extension": ".jl",
   "mimetype": "application/julia",
   "name": "julia",
   "version": "1.11.7"
  }
 },
 "nbformat": 4,
 "nbformat_minor": 5
}
